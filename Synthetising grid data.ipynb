{
 "cells": [
  {
   "cell_type": "markdown",
   "metadata": {
    "deletable": true,
    "editable": true
   },
   "source": [
    "# Goal\n",
    "\n",
    "In order to test metabase's feature of mapping data onto custom GeoJSON polygons, I'll create:\n",
    "\n",
    "1. a GeoJSON file, containing a FeatureCollection of Polygon Features.\n",
    "2. a CSV file, containing some data to map onto those polygons."
   ]
  },
  {
   "cell_type": "markdown",
   "metadata": {
    "deletable": true,
    "editable": true
   },
   "source": [
    "# Setup"
   ]
  },
  {
   "cell_type": "code",
   "execution_count": 39,
   "metadata": {
    "collapsed": true,
    "deletable": true,
    "editable": true
   },
   "outputs": [],
   "source": [
    "import json\n",
    "import pandas as pd\n",
    "import numpy as np"
   ]
  },
  {
   "cell_type": "code",
   "execution_count": 40,
   "metadata": {
    "collapsed": true,
    "deletable": true,
    "editable": true
   },
   "outputs": [],
   "source": [
    "# parameters\n",
    "n_lat = 20  # number of polygons in the latitude direction\n",
    "n_lon = 20  # number of polygons in the longitude direction\n",
    "step_lat = 0.01  # width of a polygon in the latitude direction, in degrees\n",
    "step_lon = 0.02  # width of a polygon in the longitude direction, in degrees\n",
    "min_lat = 46.5  # minimum latitude, in degrees\n",
    "min_lon = 6.6  # minimum longitude, in degrees\n",
    "abs_dir = '/Users/taabepa1/Documents/jupyter/01_make_grid_data'\n",
    "fname_geojson = 'grid.json'\n",
    "fname_maps = 'maps.csv'\n",
    "fname_spec = 'spec.json'"
   ]
  },
  {
   "cell_type": "markdown",
   "metadata": {
    "deletable": true,
    "editable": true
   },
   "source": [
    "# GeoJSON file\n",
    "\n",
    "This is the grid definition."
   ]
  },
  {
   "cell_type": "code",
   "execution_count": 41,
   "metadata": {
    "collapsed": false,
    "deletable": true,
    "editable": true
   },
   "outputs": [],
   "source": [
    "lf = []  # list of Features\n",
    "for y in range(n_lat):\n",
    "    for x in range(n_lon):\n",
    "        id_string = '%d-%d' % (y, x)\n",
    "        name = 'Sector %s' % id_string\n",
    "        min_y = min_lat + y * step_lat\n",
    "        min_x = min_lon + x * step_lon\n",
    "        coords = [[\n",
    "            (min_x, min_y),\n",
    "            (min_x + step_lon, min_y),\n",
    "            (min_x + step_lon, min_y + step_lat),\n",
    "            (min_x, min_y + step_lat),\n",
    "            (min_x, min_y)\n",
    "        ]]\n",
    "        geo = {\n",
    "            'type': 'Polygon',\n",
    "            'coordinates': coords,\n",
    "        }\n",
    "        prop = {\n",
    "            'id': id_string,\n",
    "            'name': name\n",
    "        }\n",
    "        feat = {\n",
    "            'type': 'Feature',\n",
    "            'geometry': geo,\n",
    "            'properties': prop\n",
    "        }\n",
    "        lf.append(feat)"
   ]
  },
  {
   "cell_type": "code",
   "execution_count": 42,
   "metadata": {
    "collapsed": false,
    "deletable": true,
    "editable": true
   },
   "outputs": [],
   "source": [
    "fc = {\n",
    "    'type': 'FeatureCollection',\n",
    "    'features': lf,\n",
    "}\n",
    "fc_string = json.dumps(fc)"
   ]
  },
  {
   "cell_type": "code",
   "execution_count": 43,
   "metadata": {
    "collapsed": false,
    "deletable": true,
    "editable": true
   },
   "outputs": [],
   "source": [
    "with open(fname_geojson, 'w') as outfile:\n",
    "    json.dump(fc, outfile)"
   ]
  },
  {
   "cell_type": "markdown",
   "metadata": {},
   "source": [
    "# Random data"
   ]
  },
  {
   "cell_type": "code",
   "execution_count": 44,
   "metadata": {
    "collapsed": false,
    "scrolled": false
   },
   "outputs": [
    {
     "data": {
      "text/html": [
       "<div>\n",
       "<style>\n",
       "    .dataframe thead tr:only-child th {\n",
       "        text-align: right;\n",
       "    }\n",
       "\n",
       "    .dataframe thead th {\n",
       "        text-align: left;\n",
       "    }\n",
       "\n",
       "    .dataframe tbody tr th {\n",
       "        vertical-align: top;\n",
       "    }\n",
       "</style>\n",
       "<table border=\"1\" class=\"dataframe\">\n",
       "  <thead>\n",
       "    <tr style=\"text-align: right;\">\n",
       "      <th></th>\n",
       "      <th>random_stuff</th>\n",
       "      <th>timestamp</th>\n",
       "    </tr>\n",
       "  </thead>\n",
       "  <tbody>\n",
       "    <tr>\n",
       "      <th>0-0</th>\n",
       "      <td>0.242508</td>\n",
       "      <td>2017-06-26</td>\n",
       "    </tr>\n",
       "    <tr>\n",
       "      <th>0-1</th>\n",
       "      <td>0.073794</td>\n",
       "      <td>2017-06-26</td>\n",
       "    </tr>\n",
       "    <tr>\n",
       "      <th>0-2</th>\n",
       "      <td>0.470214</td>\n",
       "      <td>2017-06-26</td>\n",
       "    </tr>\n",
       "    <tr>\n",
       "      <th>0-3</th>\n",
       "      <td>0.558820</td>\n",
       "      <td>2017-06-26</td>\n",
       "    </tr>\n",
       "    <tr>\n",
       "      <th>0-4</th>\n",
       "      <td>0.825802</td>\n",
       "      <td>2017-06-26</td>\n",
       "    </tr>\n",
       "  </tbody>\n",
       "</table>\n",
       "</div>"
      ],
      "text/plain": [
       "     random_stuff   timestamp\n",
       "0-0      0.242508  2017-06-26\n",
       "0-1      0.073794  2017-06-26\n",
       "0-2      0.470214  2017-06-26\n",
       "0-3      0.558820  2017-06-26\n",
       "0-4      0.825802  2017-06-26"
      ]
     },
     "execution_count": 44,
     "metadata": {},
     "output_type": "execute_result"
    }
   ],
   "source": [
    "index_list = []\n",
    "for y in range(n_lat):\n",
    "    for x in range(n_lon):\n",
    "        index_list.append('%d-%d' % (y, x))\n",
    "n = len(index_list)\n",
    "data = pd.DataFrame(np.random.rand(n), index=index_list, columns=['random_stuff'])\n",
    "data['timestamp'] = '2017-06-26'\n",
    "data.head()"
   ]
  },
  {
   "cell_type": "code",
   "execution_count": 45,
   "metadata": {
    "collapsed": true
   },
   "outputs": [],
   "source": [
    "data.to_csv(fname_maps, header=False)"
   ]
  },
  {
   "cell_type": "markdown",
   "metadata": {},
   "source": [
    "# Ingestion spec"
   ]
  },
  {
   "cell_type": "code",
   "execution_count": 46,
   "metadata": {
    "collapsed": false
   },
   "outputs": [],
   "source": [
    "spec = {\n",
    "    'type': 'index_hadoop',\n",
    "    'spec': {\n",
    "        'ioConfig': {\n",
    "            'type': 'hadoop',\n",
    "            'inputSpec': {\n",
    "                'type': 'static',\n",
    "                'paths': abs_dir + '/' + fname_maps\n",
    "            }\n",
    "        },\n",
    "        'dataSchema': {\n",
    "            'dataSource': 'maps',\n",
    "            'granularitySpec': {\n",
    "                'type': 'uniform',\n",
    "                'segmentGranularity': 'day',\n",
    "                'queryGranularity': 'none',\n",
    "                'intervals': [\n",
    "                    '2017-06-26/2017-06-27'\n",
    "                ]\n",
    "            },\n",
    "            'parser': {\n",
    "                'type': 'string',\n",
    "                'parseSpec': {\n",
    "                    'format': 'csv',\n",
    "                    'timestampSpec': {\n",
    "                        'format': 'auto',\n",
    "                        'column': 'timestamp'\n",
    "                    },\n",
    "                    'columns': [\n",
    "                        'id',\n",
    "                        'random_stuff', \n",
    "                        'timestamp'\n",
    "                    ],\n",
    "                    'dimensionsSpec': {\n",
    "                        'dimensions': [\n",
    "                            'id',\n",
    "                            'random_stuff'\n",
    "                        ]\n",
    "                    }\n",
    "                }\n",
    "            },\n",
    "            'metricsSpec': [\n",
    "            ]\n",
    "        },\n",
    "        'tuningConfig': {\n",
    "            'type': 'hadoop',\n",
    "            'partitionsSpec': {\n",
    "                'type': 'hashed',\n",
    "                'targetPartitionSize': 5000000\n",
    "            },\n",
    "            'jobProperties': {\n",
    "            }\n",
    "        }\n",
    "    }\n",
    "}\n",
    "spec_string = json.dumps(spec)"
   ]
  },
  {
   "cell_type": "code",
   "execution_count": 47,
   "metadata": {
    "collapsed": true
   },
   "outputs": [],
   "source": [
    "with open(fname_spec, 'w') as outfile:\n",
    "    json.dump(spec_string, outfile)"
   ]
  }
 ],
 "metadata": {
  "kernelspec": {
   "display_name": "Python 3",
   "language": "python",
   "name": "python3"
  },
  "language_info": {
   "codemirror_mode": {
    "name": "ipython",
    "version": 3
   },
   "file_extension": ".py",
   "mimetype": "text/x-python",
   "name": "python",
   "nbconvert_exporter": "python",
   "pygments_lexer": "ipython3",
   "version": "3.5.3"
  }
 },
 "nbformat": 4,
 "nbformat_minor": 2
}
