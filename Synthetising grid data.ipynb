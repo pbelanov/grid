{
 "cells": [
  {
   "cell_type": "markdown",
   "metadata": {
    "deletable": true,
    "editable": true
   },
   "source": [
    "# Goal\n",
    "\n",
    "In order to test metabase's feature of mapping data onto custom GeoJSON polygons, I'll create:\n",
    "\n",
    "1. a GeoJSON file, containing a FeatureCollection of Polygon Features.\n",
    "2. a CSV file, containing some data to map onto those polygons."
   ]
  },
  {
   "cell_type": "markdown",
   "metadata": {
    "deletable": true,
    "editable": true
   },
   "source": [
    "# Setup"
   ]
  },
  {
   "cell_type": "code",
   "execution_count": 1,
   "metadata": {
    "collapsed": true,
    "deletable": true,
    "editable": true
   },
   "outputs": [],
   "source": [
    "import json\n",
    "import pandas as pd\n",
    "import numpy as np"
   ]
  },
  {
   "cell_type": "code",
   "execution_count": 3,
   "metadata": {
    "collapsed": true,
    "deletable": true,
    "editable": true
   },
   "outputs": [],
   "source": [
    "# parameters\n",
    "n_lat = 3  # number of polygons in the latitude direction\n",
    "n_lon = 3  # number of polygons in the longitude direction\n",
    "step_lat = 0.01  # width of a polygon in the latitude direction, in degrees\n",
    "step_lon = 0.01  # width of a polygon in the longitude direction, in degrees\n",
    "min_lat = 46.5  # minimum latitude, in degrees\n",
    "min_lon = 6.6  # minimum longitude, in degrees\n",
    "fname_geojson = 'grid.json'\n",
    "fname_maps = 'maps.csv'"
   ]
  },
  {
   "cell_type": "markdown",
   "metadata": {
    "deletable": true,
    "editable": true
   },
   "source": [
    "# GeoJSON file\n",
    "\n",
    "This is the grid definition."
   ]
  },
  {
   "cell_type": "code",
   "execution_count": 34,
   "metadata": {
    "collapsed": false,
    "deletable": true,
    "editable": true
   },
   "outputs": [],
   "source": [
    "lf = []  # list of Features\n",
    "for y in range(n_lat):\n",
    "    for x in range(n_lon):\n",
    "        id_string = '%d-%d' % (y, x)\n",
    "        min_y = min_lat + y * step_lat\n",
    "        min_x = min_lon + x * step_lon\n",
    "        coords = [[\n",
    "            (min_x, min_y),\n",
    "            (min_x + step_lon, min_y),\n",
    "            (min_x + step_lon, min_y + step_lat),\n",
    "            (min_x, min_y + step_lat),\n",
    "            (min_x, min_y)\n",
    "        ]]\n",
    "        geo = {\n",
    "            'type': 'Polygon',\n",
    "            'coordinates': coords,\n",
    "        }\n",
    "        prop = {\n",
    "            'id': id_string,\n",
    "            'name': 'Sector %s' % id_string\n",
    "        }\n",
    "        feat = {\n",
    "            'type': 'Feature',\n",
    "            'geometry': geo,\n",
    "            'properties': prop\n",
    "        }\n",
    "        lf.append(feat)"
   ]
  },
  {
   "cell_type": "code",
   "execution_count": 35,
   "metadata": {
    "collapsed": false,
    "deletable": true,
    "editable": true
   },
   "outputs": [],
   "source": [
    "fc = {\n",
    "    'type': 'FeatureCollection',\n",
    "    'features': lf,\n",
    "}\n",
    "fc_string = json.dumps(fc)"
   ]
  },
  {
   "cell_type": "code",
   "execution_count": 36,
   "metadata": {
    "collapsed": false,
    "deletable": true,
    "editable": true
   },
   "outputs": [],
   "source": [
    "with open(fname_geojson, 'w') as outfile:\n",
    "    json.dump(fc, outfile)"
   ]
  },
  {
   "cell_type": "code",
   "execution_count": null,
   "metadata": {
    "collapsed": true,
    "deletable": true,
    "editable": true
   },
   "outputs": [],
   "source": []
  }
 ],
 "metadata": {
  "kernelspec": {
   "display_name": "Python 3",
   "language": "python",
   "name": "python3"
  },
  "language_info": {
   "codemirror_mode": {
    "name": "ipython",
    "version": 3
   },
   "file_extension": ".py",
   "mimetype": "text/x-python",
   "name": "python",
   "nbconvert_exporter": "python",
   "pygments_lexer": "ipython3",
   "version": "3.5.3"
  }
 },
 "nbformat": 4,
 "nbformat_minor": 2
}
